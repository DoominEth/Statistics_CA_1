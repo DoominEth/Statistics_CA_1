{
 "cells": [
  {
   "cell_type": "code",
   "execution_count": 1,
   "id": "a916b4c0-ed53-4030-bc1a-8e2e68307fe3",
   "metadata": {},
   "outputs": [],
   "source": [
    "# Libraries Used in the CA\n",
    "from scipy.stats import binom, norm, poisson, t, ttest_ind\n",
    "import matplotlib.pyplot as plt\n",
    "import pandas as pd\n",
    "import numpy as np"
   ]
  },
  {
   "cell_type": "markdown",
   "id": "a74ea4c2-eaa1-4d46-ac72-4dce3f8e3046",
   "metadata": {},
   "source": [
    "### Statisticics and Data Ananlysis "
   ]
  },
  {
   "cell_type": "raw",
   "id": "4356cf30-332f-4325-be49-0d5813ba3de9",
   "metadata": {},
   "source": [
    " Question 1\n",
    " 1. A supplier ships a lot of 1000 electrical connectors. A sample of 55 is selected at random,\n",
    " without replacement. Assume the lot contains 150 defective connectors.\n",
    " (a) What is the probability that there are at most 2 defective connectors in the sample.\n",
    " (b) Use an appropriate distribution to approximate your answer in part (a) and comment on\n",
    " the approximation\n",
    " 2. Contamination is a problem in the manufacture of optical storage disks. The number of particles\n",
    " of contamination that occur on an optical disk has a Poisson distribution, and the average\n",
    " number of particles per centimeter squared of media surface is 0.3. The area of a disk under\n",
    " study is 100 squared centimeters.\n",
    " (a) Find the probability that 12 particles occur in the area of a disk under study.\n",
    " (b) Find the probability that at least 40 particles occur in the area of a disk under study"
   ]
  },
  {
   "cell_type": "markdown",
   "id": "98be6da8-014b-4895-922c-8f97a73e3566",
   "metadata": {},
   "source": [
    "## Q1 "
   ]
  },
  {
   "cell_type": "markdown",
   "id": "c795d0f2-8ea7-4d2d-9d15-4da4b9e1c772",
   "metadata": {},
   "source": [
    "### 1 "
   ]
  },
  {
   "cell_type": "markdown",
   "id": "379a9b9b-47de-46b7-9e2b-1d89a645de56",
   "metadata": {},
   "source": [
    "#### A"
   ]
  },
  {
   "cell_type": "code",
   "execution_count": 2,
   "id": "77684107-41a0-44ec-be08-2caa42786220",
   "metadata": {},
   "outputs": [],
   "source": [
    "#Variables\n",
    "connectors = 1000\n",
    "sample = 55\n",
    "defective = 150\n",
    "#Probability of a single defective connector\n",
    "p = defective / connectors\n",
    "#(A) variable 2 deffective connectors\n",
    "defective_a = 2"
   ]
  },
  {
   "cell_type": "code",
   "execution_count": 3,
   "id": "e09a7592-dee7-43b7-96ec-5e28c2e09c20",
   "metadata": {},
   "outputs": [
    {
     "data": {
      "text/plain": [
       "0.15"
      ]
     },
     "execution_count": 3,
     "metadata": {},
     "output_type": "execute_result"
    }
   ],
   "source": [
    "p"
   ]
  },
  {
   "cell_type": "raw",
   "id": "d02b6dee-18df-4451-adf3-d6b86bf471d0",
   "metadata": {},
   "source": [
    "Why im using Binormial Distribution: There are only 2 outcomes for the connectors, Working and Defective. Our sample size in the question is 55 and it is \"without replacement\", so it wont affect subsequent trials."
   ]
  },
  {
   "cell_type": "code",
   "execution_count": 4,
   "id": "e4f7c976-bd5c-482f-b23b-7cee07933acf",
   "metadata": {},
   "outputs": [],
   "source": [
    "#Creating a binom dist with python library scipy.stats binom\n",
    "binomial_distribution = binom(sample, p)"
   ]
  },
  {
   "cell_type": "code",
   "execution_count": 5,
   "id": "3039f004-69ed-41d5-87ac-52fc07633c60",
   "metadata": {},
   "outputs": [],
   "source": [
    "sample_range = range(0, sample + 1) #Plus 1 to include 55 in the range\n",
    "prob_mass_values = binomial_distribution.pmf(sample_range) # Probability Mass to visualise the distribution"
   ]
  },
  {
   "cell_type": "code",
   "execution_count": 6,
   "id": "4fd41bb7-9007-42db-a567-3a4fa3af2fc2",
   "metadata": {},
   "outputs": [
    {
     "data": {
      "image/png": "[encoded data removed]",
      "text/plain": [
       "<Figure size 720x360 with 1 Axes>"
      ]
     },
     "metadata": {
      "needs_background": "light"
     },
     "output_type": "display_data"
    }
   ],
   "source": [
    "#Visualisation of the distribution\n",
    "plt.figure(figsize=(10, 5))\n",
    "plt.bar(sample_range, prob_mass_values) #possible defectives range, probability of them being defective\n",
    "plt.title('Bino Distribution')\n",
    "plt.xlabel('Defective Connectors')\n",
    "plt.ylabel('Probability')\n",
    "plt.show()"
   ]
  },
  {
   "cell_type": "code",
   "execution_count": 7,
   "id": "20ee9672-27a1-4272-90dc-b2df1e58d0b9",
   "metadata": {},
   "outputs": [],
   "source": [
    "answer_1_a = binomial_distribution.cdf(defective_a) "
   ]
  },
  {
   "cell_type": "markdown",
   "id": "8e413e19-e031-404f-97ff-c374b0653804",
   "metadata": {},
   "source": [
    "##### Answer 1 A "
   ]
  },
  {
   "cell_type": "code",
   "execution_count": 8,
   "id": "3cca77ab-7a9b-411f-b91b-e99924df3777",
   "metadata": {},
   "outputs": [
    {
     "data": {
      "text/plain": [
       "0.007473886818135139"
      ]
     },
     "execution_count": 8,
     "metadata": {},
     "output_type": "execute_result"
    }
   ],
   "source": [
    "answer_1_a"
   ]
  },
  {
   "cell_type": "markdown",
   "id": "41f4d543-b97d-4d49-be9f-3f49f7570b56",
   "metadata": {},
   "source": [
    "#### B"
   ]
  },
  {
   "cell_type": "raw",
   "id": "5e22ad5f-411b-4125-b46f-b9e2f7ec7656",
   "metadata": {},
   "source": [
    "Why im using the Normal Distribution: The central Limit Theorom allows us to use the Normal distribution as the sample size is at greater than 30. The greater the sample size the more it adhears to the normal distribution. In the graph above we can see this is generally the case."
   ]
  },
  {
   "cell_type": "markdown",
   "id": "6ac7565a-af29-46ff-8838-26861e9cd86f",
   "metadata": {},
   "source": [
    "##### Functions"
   ]
  },
  {
   "cell_type": "code",
   "execution_count": 9,
   "id": "990768cb-5fe6-4bb4-9f54-37e22412d419",
   "metadata": {},
   "outputs": [],
   "source": [
    "def sigma_value(sample_size, p):\n",
    "    return (sample_size * p * (1 - p)) ** 0.5\n",
    "\n",
    "def z_value(observations, mean, stnd_dev):\n",
    "    return (observations - mean) / stnd_dev"
   ]
  },
  {
   "cell_type": "code",
   "execution_count": 10,
   "id": "11e40b00-93ce-40d4-95a9-6d05bb4ef074",
   "metadata": {},
   "outputs": [],
   "source": [
    "# Variables\n",
    "mean = sample * p\n",
    "sigma = sigma_value(sample, p)\n",
    "z = z_value(defective_a, mean, sigma)"
   ]
  },
  {
   "cell_type": "code",
   "execution_count": 11,
   "id": "1d6abb5b-39bb-4c22-ab17-6b8e4cd42975",
   "metadata": {},
   "outputs": [],
   "source": [
    "answer_1_b = z"
   ]
  },
  {
   "cell_type": "markdown",
   "id": "12abafdb-003e-4ccd-9009-a597634148d7",
   "metadata": {},
   "source": [
    "##### Answer 1 B "
   ]
  },
  {
   "cell_type": "code",
   "execution_count": 12,
   "id": "ada46b3c-27aa-4f66-a7cf-37a0ece43a95",
   "metadata": {},
   "outputs": [
    {
     "data": {
      "text/plain": [
       "-2.360171600154253"
      ]
     },
     "execution_count": 12,
     "metadata": {},
     "output_type": "execute_result"
    }
   ],
   "source": [
    "answer_1_b"
   ]
  },
  {
   "cell_type": "raw",
   "id": "e6b91157-99b1-44ed-bf44-f657d724d54e",
   "metadata": {},
   "source": [
    "Comment:\n",
    "When we look up the result on the standard Normal Distribution table we get a reading of .00914, this is opposed to our reading in A where we got a 0.00747."
   ]
  },
  {
   "cell_type": "markdown",
   "id": "bee70e74-7c6a-463a-8a1d-cbd5f9683b7e",
   "metadata": {},
   "source": [
    "#### 2 "
   ]
  },
  {
   "cell_type": "markdown",
   "id": "6bb23206-c823-4425-9455-2609a89811e9",
   "metadata": {},
   "source": [
    "#### A "
   ]
  },
  {
   "cell_type": "code",
   "execution_count": 13,
   "id": "794bdf2d-d3da-4c56-9acf-bca8d7fdf16d",
   "metadata": {},
   "outputs": [],
   "source": [
    "#Variables\n",
    "mean = .3\n",
    "area = 100\n",
    "\n",
    "# average particles across the entire area of the disc\n",
    "mean_total = mean * area\n",
    "\n",
    "particles_a = 12"
   ]
  },
  {
   "cell_type": "code",
   "execution_count": 14,
   "id": "efb75014-1f70-4573-b0b9-60dc20506e83",
   "metadata": {},
   "outputs": [],
   "source": [
    "# Probability Mass - the question is asking for the EXACT number of particles to be found (12)\n",
    "p_12 = poisson.pmf(particles_a, mean_total)"
   ]
  },
  {
   "cell_type": "markdown",
   "id": "b706568a-5b88-40ec-9fe0-7b38ac67cd26",
   "metadata": {},
   "source": [
    "##### Answer 2 A "
   ]
  },
  {
   "cell_type": "code",
   "execution_count": 15,
   "id": "c0cac37a-0f79-4877-8336-c334850945aa",
   "metadata": {},
   "outputs": [
    {
     "data": {
      "text/plain": [
       "0.000103820624152057"
      ]
     },
     "execution_count": 15,
     "metadata": {},
     "output_type": "execute_result"
    }
   ],
   "source": [
    "p_12"
   ]
  },
  {
   "cell_type": "markdown",
   "id": "78772e58-066a-4869-8614-9a3cf9276164",
   "metadata": {},
   "source": [
    "#### B "
   ]
  },
  {
   "cell_type": "code",
   "execution_count": 16,
   "id": "3b42ba53-848e-4ee5-8b35-ae653ea8a508",
   "metadata": {},
   "outputs": [],
   "source": [
    "# Variables\n",
    "particles_b = 40"
   ]
  },
  {
   "cell_type": "code",
   "execution_count": 17,
   "id": "7b4f893c-8ef8-4788-8ca9-217403e920c6",
   "metadata": {},
   "outputs": [],
   "source": [
    "# Cumulative Distrivution - the question is asking for atleast 40, we need to get everything under 40 first (non inclusive)\n",
    "p_less_than_40 = poisson.cdf(particles_b - 1, mean_total)\n",
    "\n",
    "# Deduct the percentage Under 40 from 1 to get the percentage OVER\n",
    "p_40_or_more = 1 - p_less_than_40\n"
   ]
  },
  {
   "cell_type": "markdown",
   "id": "4986e30b-1379-4b00-917a-97e731443a42",
   "metadata": {},
   "source": [
    "##### Answer 2 B "
   ]
  },
  {
   "cell_type": "code",
   "execution_count": 18,
   "id": "d78eb30e-1f2e-469a-9df3-d7ba892e297f",
   "metadata": {},
   "outputs": [
    {
     "data": {
      "text/plain": [
       "0.0462530376458421"
      ]
     },
     "execution_count": 18,
     "metadata": {},
     "output_type": "execute_result"
    }
   ],
   "source": [
    "p_40_or_more"
   ]
  },
  {
   "cell_type": "markdown",
   "id": "cdbe1bc7-d77a-411e-b11f-281adaf24567",
   "metadata": {},
   "source": [
    "### Q2 "
   ]
  },
  {
   "cell_type": "raw",
   "id": "a8d13018-0ca3-40fa-807a-2afb3f21c5f4",
   "metadata": {},
   "source": [
    " Question 2\n",
    " 1. The temperature reading from a thermocouple placed in a constant-temperature medium is\n",
    " normally distributed with mean of 825C and standard deviation 1C. 99% of all readings\n",
    " are within what temperature range?\n",
    " 2. Below is a sample of 12 temperature readings recorded. Carry out a hypothesis test (at the 5%\n",
    " level of signi cance) to investigate the assumption the mean temperature is 825CYour report\n",
    " should include a condence interval, test statistic, p value and a comment on any assumptions\n",
    " made in the investigation."
   ]
  },
  {
   "cell_type": "markdown",
   "id": "f48468d0-2c7f-42e8-8204-5ffcb3a3de56",
   "metadata": {
    "tags": []
   },
   "source": [
    "#### A "
   ]
  },
  {
   "cell_type": "code",
   "execution_count": 19,
   "id": "712b159c-c89a-46a1-be57-2cbeb7943ae9",
   "metadata": {},
   "outputs": [],
   "source": [
    "#Variables\n",
    "mean = 82.5\n",
    "stnd_dev = .1\n",
    "\n",
    "# Standard deviation needs to be broken into two parts to get the lower side and the higher side\n",
    "stnd_dev_split = stnd_dev / 2\n",
    "lower_percent = stnd_dev_split\n",
    "upper_percent = 1 - lower_percent"
   ]
  },
  {
   "cell_type": "code",
   "execution_count": 20,
   "id": "fa98f314-51c6-4651-8a73-9c9a03180501",
   "metadata": {},
   "outputs": [],
   "source": [
    "# the lower range of the 99 percentile\n",
    "lower_range =  norm.ppf(lower_percent, mean, stnd_dev)\n",
    "# the upper range of the 99 percentile\n",
    "upper_range = norm.ppf(upper_percent, mean, stnd_dev)"
   ]
  },
  {
   "cell_type": "code",
   "execution_count": 21,
   "id": "a637ccc3-2426-489d-8519-ee8c72613559",
   "metadata": {},
   "outputs": [
    {
     "data": {
      "text/plain": [
       "82.66448536269515"
      ]
     },
     "execution_count": 21,
     "metadata": {},
     "output_type": "execute_result"
    }
   ],
   "source": [
    "upper_range"
   ]
  },
  {
   "cell_type": "markdown",
   "id": "6c690d82-a7ca-4d5e-8e37-ab278825f450",
   "metadata": {},
   "source": [
    "##### Answer 2 A "
   ]
  },
  {
   "cell_type": "code",
   "execution_count": 22,
   "id": "2d11e6a9-f315-4341-9009-7f23fcfabc7c",
   "metadata": {},
   "outputs": [
    {
     "data": {
      "text/plain": [
       "'The range is between lower 82.33551463730485 and 82.66448536269515'"
      ]
     },
     "execution_count": 22,
     "metadata": {},
     "output_type": "execute_result"
    }
   ],
   "source": [
    "f\"The range is between lower {lower_range} and {upper_range}\""
   ]
  },
  {
   "cell_type": "markdown",
   "id": "96a874e0-0293-440e-8cda-40057ab99018",
   "metadata": {},
   "source": [
    "#### B "
   ]
  },
  {
   "cell_type": "code",
   "execution_count": 23,
   "id": "d00355e5-d0c7-4b20-8f02-abbdaa91b7e4",
   "metadata": {},
   "outputs": [],
   "source": [
    "# Variables\n",
    "temperatures = pd.Series([82.05, 82.15, 82.5, 82.65, 82.10, 82.25, 82.05, 81.95, 82.15, 82.00, 82.10, 81.90])\n",
    "hypo_alpha = 0.05\n",
    "null_hypo_mean = 82.5"
   ]
  },
  {
   "cell_type": "code",
   "execution_count": 24,
   "id": "94efb349-e467-49b4-b395-c775ae837679",
   "metadata": {},
   "outputs": [],
   "source": [
    "# Amount of data points in our data set\n",
    "observations = len(temperatures)\n",
    "\n",
    "#Degrees of freedom are out observations less 1\n",
    "degrees_of_freedom = observations -1\n",
    "\n",
    "# Mean across our observations\n",
    "mean = temperatures.mean()\n",
    "\n",
    "# Standard Deviations with 1 Degree of Freedom\n",
    "stnd_dev = temperatures.std(ddof=1)\n",
    "\n",
    "#t table look up for 11 degrees of freedom with 0.05 significance (two tailed)\n",
    "t_table_look_up = 2.201\n"
   ]
  },
  {
   "cell_type": "code",
   "execution_count": 25,
   "id": "fac5955b-e609-444e-af17-9857470e0210",
   "metadata": {},
   "outputs": [],
   "source": [
    "#Function Formulas for T for our observasions in this data set\n",
    "def get_t_value(mean, hypo_mean, stnd_dev, observations):\n",
    "    return (mean - hypo_mean) / (stnd_dev / np.sqrt(observations))\n",
    "\n",
    "# Margin of error formula\n",
    "def get_margin_of_error(t_critical, stnd_dev, observations):\n",
    "    return t_critical * (stnd_dev / np.sqrt(observations))\n",
    "\n",
    "#Confidence Interval Formula\n",
    "def get_confidence_interval(mean, margin_of_err):\n",
    "    lower_range = mean - margin_of_err\n",
    "    upper_range = mean + margin_of_err\n",
    "    return lower_range, upper_range\n",
    "\n",
    "def get_p_value(t_value, degrees_of_freedom):\n",
    "    return t.sf(abs(t_value), degrees_of_freedom) * 2 "
   ]
  },
  {
   "cell_type": "code",
   "execution_count": 26,
   "id": "676c6841-8316-4bc7-bac1-d39f83fbe304",
   "metadata": {},
   "outputs": [],
   "source": [
    "# Get T value for the observations in out data set\n",
    "t_value = get_t_value(mean,null_hypo_mean, stnd_dev, observations)\n",
    "\n",
    "# Margin of error\n",
    "margin_of_error = get_margin_of_error(t_table_look_up, stnd_dev, observations)\n",
    "\n",
    "#\n",
    "lower_range, upper_range = get_confidence_interval(mean, margin_of_error)\n",
    "\n",
    "p = get_p_value(t_value, degrees_of_freedom)"
   ]
  },
  {
   "cell_type": "markdown",
   "id": "e6eb2f83-c6dc-4e47-9284-1db2f0586b66",
   "metadata": {
    "tags": []
   },
   "source": [
    "##### Answer 2 B"
   ]
  },
  {
   "cell_type": "code",
   "execution_count": 27,
   "id": "30e77d66-7954-480e-ae02-37302892d479",
   "metadata": {},
   "outputs": [
    {
     "name": "stdout",
     "output_type": "stream",
     "text": [
      "Confidence Interval lower: 82.01439861524153\n",
      "Confidence Interval Upper: 82.2939347180918\n",
      "t value: -5.446016875139549\n",
      "p value: 0.00020205180832346127\n",
      "P is significantly smaller so the hypothosis is rejected. We have assumed a normal distibution \n"
     ]
    }
   ],
   "source": [
    "print(f\"Confidence Interval lower: {lower_range}\")\n",
    "print(f\"Confidence Interval Upper: {upper_range}\")\n",
    "print(f\"t value: {t_value}\")\n",
    "print(f\"p value: {p}\")\n",
    "print(\"P is significantly smaller so the hypothosis is rejected. We have assumed a normal distibution \")"
   ]
  },
  {
   "cell_type": "markdown",
   "id": "354a6c32-40aa-48bb-8585-3afeadeca10c",
   "metadata": {},
   "source": [
    "### Q 3"
   ]
  },
  {
   "cell_type": "raw",
   "id": "8f1189e8-0659-4e6b-b574-1ba2da11992c",
   "metadata": {},
   "source": [
    "Two quality control technicians measured the surface nish of a metal part, obtaining the data below.\n",
    "Assume that the measurements are normally distributed.\n",
    "Carry out a hypothesis test (at the 1% level of signi cance) to investigate if the mean surface nish\n",
    "measurements made by the two technicians are equal. Your report should include a condence\n",
    "interval, test statistic, p value bounds and a comment on any assumptions made in the investigation."
   ]
  },
  {
   "cell_type": "code",
   "execution_count": 28,
   "id": "3c66e7ea-385f-4a57-a2cc-9121dd57ab44",
   "metadata": {},
   "outputs": [],
   "source": [
    "# Variables\n",
    "hypo_alpha = 0.01\n",
    "\n",
    "technician_1 = pd.Series([1.45, 1.37, 1.37, 1.21, 1.54, 1.48, 1.29, 1.34, 1.35])\n",
    "technician_2 = pd.Series([1.54, 1.41, 1.56, 1.37, 1.20, 1.31, 1.27])\n",
    "\n",
    "#mean\n",
    "mean_t1 = technician_1.mean()\n",
    "mean_t2 = technician_2.mean()\n",
    "mean_difference = mean_t1 - mean_t2\n",
    "\n",
    "#Observations\n",
    "len_t1 = len(technician_1)\n",
    "len_t2 = len(technician_2)\n",
    "\n",
    "#degrees of freedom\n",
    "dof_t1 = len_t1 - 1\n",
    "dof_t2 = len_t2 - 1\n",
    "\n",
    "#Variance for the spread of the observations\n",
    "var_t1 = technician_1.var(ddof=1)\n",
    "var_t2 = technician_2.var(ddof=1)\n"
   ]
  },
  {
   "cell_type": "code",
   "execution_count": 29,
   "id": "43b34c9a-273a-4c56-bee6-823defa991bb",
   "metadata": {},
   "outputs": [],
   "source": [
    "#functions and formulas\n",
    "# Welch's dof \n",
    "def get_welch_dof(var_1, len_1, var_2, len_2):\n",
    "    numerator = (var_1 / len_1 + var_2 / len_2)**2\n",
    "    denominator = (var_1 / len_1)**2 / (len_1 - 1) + (var_2 / len_2)**2 / (len_2 - 1)\n",
    "    return numerator / denominator"
   ]
  },
  {
   "cell_type": "code",
   "execution_count": 30,
   "id": "d4ef0b7a-e084-4ad1-b5a6-7f6f2471e3d2",
   "metadata": {},
   "outputs": [],
   "source": [
    "#Calculate the standard error of the mean difference\n",
    "standard_error = np.sqrt((var_t1 / len_t1) + (var_t2 / len_t2))\n",
    "\n",
    "#T Test across the two data sets, NOTE: equal var set to False as they have a different quantity of observations\n",
    "t_stat, p_value = ttest_ind(technician_1, technician_2, equal_var=False)\n",
    "\n",
    "# Calculation for the combined degrees of freedom in our data sets using welch algortithm\n",
    "degrees_of_freedom = get_welch_dof(var_t1,len_t1, var_t2, len_t2 )\n",
    "\n",
    "#T critical calculated using algorithm as degrees of freedom has a decimal point (due to welch algo)\n",
    "t_critical = t.ppf(1 - hypo_alpha/2, degrees_of_freedom)\n",
    "\n",
    "#Margin of error calculation\n",
    "margin_error = t_critical * standard_error\n",
    "lower_range = mean_difference - margin_error\n",
    "upper_range = mean_difference + margin_error\n"
   ]
  },
  {
   "cell_type": "markdown",
   "id": "39fc53c2-84f6-440d-a3b1-27fc2517751d",
   "metadata": {},
   "source": [
    "#### ANSWER 3 "
   ]
  },
  {
   "cell_type": "code",
   "execution_count": 31,
   "id": "00ba91a5-53c7-4e10-bcce-86c1af7def7c",
   "metadata": {},
   "outputs": [
    {
     "name": "stdout",
     "output_type": "stream",
     "text": [
      "Mean Difference: -0.0022222222222223476\n",
      "Test Statistic: -0.03656165736182559\n",
      "P value: 0.9715023252995802\n",
      "Degrees of Freedom: 10.787170647548802\n",
      "Confidence Interval lower: -0.19174426965044006\n",
      "Confidence Interval upper: 0.18729982520599536\n"
     ]
    }
   ],
   "source": [
    "print(f\"Mean Difference: {mean_difference}\")\n",
    "print(f\"Test Statistic: {t_stat}\")\n",
    "print(f\"P value: {p_value}\")\n",
    "print(f\"Degrees of Freedom: {degrees_of_freedom}\")\n",
    "print(f\"Confidence Interval lower: {lower_range}\")\n",
    "print(f\"Confidence Interval upper: {upper_range}\")\n"
   ]
  },
  {
   "cell_type": "code",
   "execution_count": null,
   "id": "3104377e-06bd-45ba-9662-9f37f4427483",
   "metadata": {},
   "outputs": [],
   "source": []
  }
 ],
 "metadata": {
  "kernelspec": {
   "display_name": "Python 3 (ipykernel)",
   "language": "python",
   "name": "python3"
  },
  "language_info": {
   "codemirror_mode": {
    "name": "ipython",
    "version": 3
   },
   "file_extension": ".py",
   "mimetype": "text/x-python",
   "name": "python",
   "nbconvert_exporter": "python",
   "pygments_lexer": "ipython3",
   "version": "3.10.7"
  }
 },
 "nbformat": 4,
 "nbformat_minor": 5
}
